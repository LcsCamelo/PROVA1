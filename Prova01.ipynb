{
 "cells": [
  {
   "cell_type": "code",
   "execution_count": 1,
   "id": "1bb5bcbf-84fc-4f09-9137-8473f897b95a",
   "metadata": {},
   "outputs": [],
   "source": [
    "class No:\n",
    "    def __init__(self,valor):\n",
    "        self.valor=valor\n",
    "        self.proximo=None\n",
    "\n",
    "class ListaEncadeada:\n",
    "    def __init__(self):\n",
    "        self.inicio=None\n",
    "\n",
    "    def inserir (self,valor):\n",
    "        novo_no=No(valor)\n",
    "        if self.inicio is None:\n",
    "            self.inicio = novo_no\n",
    "        else:\n",
    "            atual = self.inicio\n",
    "            while atual.proximo:\n",
    "                atual=atual.proximo\n",
    "            atual.proximo=novo_no\n",
    "\n",
    "    def contar (self):\n",
    "        atual=self.inicio\n",
    "        if self.inicio is None:\n",
    "            return 0\n",
    "        if atual.proximo is None and self.inicio != None:\n",
    "            return 1\n",
    "        else:\n",
    "            total=1\n",
    "            while atual.proximo:\n",
    "                atual=atual.proximo\n",
    "                total = total+1\n",
    "            print(total)\n",
    "            \n",
    "            "
   ]
  },
  {
   "cell_type": "code",
   "execution_count": 2,
   "id": "22b405e3-9c89-47ae-b465-ceed9ee0d399",
   "metadata": {},
   "outputs": [
    {
     "data": {
      "text/plain": [
       "0"
      ]
     },
     "execution_count": 2,
     "metadata": {},
     "output_type": "execute_result"
    }
   ],
   "source": [
    "lista = ListaEncadeada()\n",
    "lista.contar()"
   ]
  },
  {
   "cell_type": "code",
   "execution_count": 3,
   "id": "6fb4aaed-75f9-4f31-8902-faabca5a1f96",
   "metadata": {},
   "outputs": [
    {
     "data": {
      "text/plain": [
       "1"
      ]
     },
     "execution_count": 3,
     "metadata": {},
     "output_type": "execute_result"
    }
   ],
   "source": [
    "lista1 = ListaEncadeada()\n",
    "lista1.inserir(5)\n",
    "lista1.contar()"
   ]
  },
  {
   "cell_type": "code",
   "execution_count": 4,
   "id": "076571de-6290-477c-901f-f73d2bd453b3",
   "metadata": {},
   "outputs": [
    {
     "name": "stdout",
     "output_type": "stream",
     "text": [
      "2\n"
     ]
    }
   ],
   "source": [
    "lista2 = ListaEncadeada()\n",
    "lista2.inserir(5)\n",
    "lista2.inserir(15)\n",
    "lista2.contar()"
   ]
  },
  {
   "cell_type": "code",
   "execution_count": 5,
   "id": "fa50e738-9818-4327-8fa9-e40f5beabb7b",
   "metadata": {},
   "outputs": [
    {
     "name": "stdout",
     "output_type": "stream",
     "text": [
      "4\n"
     ]
    }
   ],
   "source": [
    "lista3 = ListaEncadeada()\n",
    "lista3.inserir(5)\n",
    "lista3.inserir(15)\n",
    "lista3.inserir(25)\n",
    "lista3.inserir(45)\n",
    "lista3.contar()"
   ]
  },
  {
   "cell_type": "code",
   "execution_count": null,
   "id": "08f84ad1-6115-4699-a12e-6652efa983e6",
   "metadata": {},
   "outputs": [],
   "source": []
  },
  {
   "cell_type": "code",
   "execution_count": null,
   "id": "625755e4-af3a-4d0a-b59d-ce0ff241fc4d",
   "metadata": {},
   "outputs": [],
   "source": []
  }
 ],
 "metadata": {
  "kernelspec": {
   "display_name": "Python 3 (ipykernel)",
   "language": "python",
   "name": "python3"
  },
  "language_info": {
   "codemirror_mode": {
    "name": "ipython",
    "version": 3
   },
   "file_extension": ".py",
   "mimetype": "text/x-python",
   "name": "python",
   "nbconvert_exporter": "python",
   "pygments_lexer": "ipython3",
   "version": "3.12.4"
  }
 },
 "nbformat": 4,
 "nbformat_minor": 5
}
